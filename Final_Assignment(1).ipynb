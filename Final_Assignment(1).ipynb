{
  "nbformat": 4,
  "nbformat_minor": 0,
  "metadata": {
    "colab": {
      "provenance": []
    },
    "kernelspec": {
      "name": "python3",
      "display_name": "Python 3"
    },
    "language_info": {
      "name": "python"
    }
  },
  "cells": [
    {
      "cell_type": "markdown",
      "source": [
        "# GITHUB: https://github.com/AVR-24/firstexercise.git"
      ],
      "metadata": {
        "id": "J_Gsa2sJ_I_b"
      }
    },
    {
      "cell_type": "markdown",
      "source": [
        " ## Author\n",
        " Adrián Vega"
      ],
      "metadata": {
        "id": "hiQQeazHtY-h"
      }
    },
    {
      "cell_type": "markdown",
      "source": [
        "# Data Science Tools and Ecosystem\n",
        "\n",
        "In this notebook, Data Science Tools and Ecosystem are summarized"
      ],
      "metadata": {
        "id": "8iEEENBgpHTr"
      }
    },
    {
      "cell_type": "markdown",
      "source": [
        "# Some of the popular languages that Data Scientists use are:\n",
        "+ Python\n",
        "+ R\n",
        "+ Julia\n",
        "+ C++"
      ],
      "metadata": {
        "id": "6wzjdRpvpzRy"
      }
    },
    {
      "cell_type": "markdown",
      "source": [
        "# Some of the commonly used libraries used by Data Scientists include:\n",
        "\n",
        "+ pandas\n",
        "+ numpy\n",
        "+ tensorflow"
      ],
      "metadata": {
        "id": "S1GYYIJRqYIS"
      }
    },
    {
      "cell_type": "markdown",
      "source": [
        "# **Objectives:**\n",
        "\n",
        "*   List some of the commonly used libraries used by Data Scientists\n",
        "*   List some Data Science Tools\n",
        "*   Evaluating some arithmetic expressions in python\n",
        "\n",
        "\n",
        "\n",
        "\n"
      ],
      "metadata": {
        "id": "dLb6uVoHsta3"
      }
    },
    {
      "cell_type": "markdown",
      "source": [
        "| Data Science Tools |\n",
        "|---|\n",
        "| Jupyter Notebooks |\n",
        "| MySQL |\n",
        "| Rstudio |\n",
        "\n",
        "\n"
      ],
      "metadata": {
        "id": "_nbJuHgHqsKb"
      }
    },
    {
      "cell_type": "markdown",
      "source": [
        "### Below are a few examples of evaluating arithmetic expressions in Python."
      ],
      "metadata": {
        "id": "FECYJMiWrhVh"
      }
    },
    {
      "cell_type": "code",
      "source": [
        "#This a simple arithmetic expression to mutiply then add integers\n",
        "print((3*4)+5)\n",
        "\n"
      ],
      "metadata": {
        "colab": {
          "base_uri": "https://localhost:8080/"
        },
        "id": "wEoTKzjVrvbS",
        "outputId": "6f6fe535-1a69-4053-c324-3d4467064987"
      },
      "execution_count": null,
      "outputs": [
        {
          "output_type": "stream",
          "name": "stdout",
          "text": [
            "17\n"
          ]
        }
      ]
    },
    {
      "cell_type": "code",
      "source": [
        "#This will convert 200 minutes to hours by diving by 60\n",
        "x = 200\n",
        "y = x/60\n",
        "print(y)"
      ],
      "metadata": {
        "colab": {
          "base_uri": "https://localhost:8080/"
        },
        "id": "r6eSVuoasVdl",
        "outputId": "c9952e63-41d4-4059-8076-82fa488686a0"
      },
      "execution_count": null,
      "outputs": [
        {
          "output_type": "stream",
          "name": "stdout",
          "text": [
            "3.3333333333333335\n"
          ]
        }
      ]
    }
  ]
}